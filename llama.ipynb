{
 "cells": [
  {
   "cell_type": "code",
   "execution_count": null,
   "metadata": {},
   "outputs": [],
   "source": [
    "from huggingface_hub import login\n",
    "login()"
   ]
  },
  {
   "cell_type": "markdown",
   "metadata": {},
   "source": [
    "#Load the Model and Tokenizer"
   ]
  },
  {
   "cell_type": "code",
   "execution_count": null,
   "metadata": {},
   "outputs": [],
   "source": [
    "import gradio as gr\n",
    "import torch\n",
    "from transformers import AutoModelForCausalLM, AutoTokenizer, pipeline\n",
    "\n",
    "\n",
    "device = \"cpu\"\n",
    "\n",
    "#define llama models\n",
    "llama_models = {\n",
    "    \"Llama 3.2 3B Instruct\": \"meta-llama/Llama-3.2-3B-Instruct\"  \n",
    "}\n",
    "\n",
    "def load_model(model_name):\n",
    "    \"\"\"Load the specified Llama model.\"\"\"\n",
    "    tokenizer = AutoTokenizer.from_pretrained(model_name)\n",
    "    model = AutoModelForCausalLM.from_pretrained(model_name)\n",
    "    generator = pipeline('text-generation', model=model, tokenizer=tokenizer, device=device)\n",
    "    return generator\n",
    "\n",
    "model_cache = {}\n",
    "\n",
    "def generate_chat(user_input, history, model_choice):\n",
    "    \n",
    "    generator = model_cache[model_choice]\n",
    "\n",
    "    system_prompt = {\"role\": \"system\", \"content\": \"You are a helpful assistant\"}\n",
    "\n",
    "    if history is None:\n",
    "        history = [system_prompt]\n",
    "    \n",
    "    history.append({\"role\": \"user\", \"content\": user_input})\n",
    "\n",
    "    response = generator(\n",
    "        history,\n",
    "        max_length=512,\n",
    "        pad_token_id=generator.tokenizer.eos_token_id,\n",
    "        do_sample=True,\n",
    "        temperature=0.7,\n",
    "        top_p=0.9\n",
    "    )[-1][\"generated_text\"][-1][\"content\"]\n",
    "\n",
    "    history.append({\"role\": \"assistant\", \"content\": response})\n",
    "    \n",
    "    return history\n"
   ]
  },
  {
   "cell_type": "markdown",
   "metadata": {},
   "source": [
    "# Gradio Block"
   ]
  },
  {
   "cell_type": "code",
   "execution_count": null,
   "metadata": {},
   "outputs": [],
   "source": [
    "with gr.Blocks() as demo:\n",
    "    gr.Markdown(\"<h1><center>Chat with Llama Models</center></h1>\")\n",
    "\n",
    "    model_choice = gr.Dropdown(list(llama_models.keys()), label=\"Select Llama Model\")\n",
    "\n",
    "    chatbot = gr.Chatbot(label=\"Chatbot Interface\", type = \"messages\")\n",
    "    txt_input = gr.Textbox(show_label=False, placeholder=\"Type your message here...\")\n",
    "\n",
    "    def respond(user_input, chat_history, model_choice):\n",
    "        if model_choice is None:\n",
    "            model_choice = list(llama_models.keys())[0]\n",
    "        updated_history = generate_chat(user_input, chat_history, model_choice)\n",
    "        return \"\", updated_history\n",
    "\n",
    "    txt_input.submit(respond, [txt_input, chatbot, model_choice], [txt_input, chatbot])\n",
    "\n",
    "    submit_btn = gr.Button(\"Submit\")\n",
    "    submit_btn.click(respond, [txt_input, chatbot, model_choice], [txt_input, chatbot])"
   ]
  },
  {
   "cell_type": "markdown",
   "metadata": {},
   "source": [
    "# running Inference"
   ]
  },
  {
   "cell_type": "code",
   "execution_count": null,
   "metadata": {},
   "outputs": [],
   "source": [
    "demo.launch()"
   ]
  }
 ],
 "metadata": {
  "kernelspec": {
   "display_name": ".venv",
   "language": "python",
   "name": "python3"
  },
  "language_info": {
   "codemirror_mode": {
    "name": "ipython",
    "version": 3
   },
   "file_extension": ".py",
   "mimetype": "text/x-python",
   "name": "python",
   "nbconvert_exporter": "python",
   "pygments_lexer": "ipython3",
   "version": "3.11.9"
  }
 },
 "nbformat": 4,
 "nbformat_minor": 2
}
