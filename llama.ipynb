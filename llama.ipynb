{
 "cells": [
  {
   "cell_type": "markdown",
   "metadata": {},
   "source": [
    "# Load the Model and Tokenizer"
   ]
  },
  {
   "cell_type": "code",
   "execution_count": 18,
   "metadata": {},
   "outputs": [],
   "source": [
    "import gradio as gr\n",
    "import torch\n",
    "from transformers import AutoModelForCausalLM, AutoTokenizer, pipeline\n",
    "import torch.profiler\n",
    "import time\n",
    "import pandas as pd  # To format the profiler output into a table\n",
    "\n",
    "\n",
    "\n",
    "device = \"cpu\"\n",
    "\n",
    "#define llama models\n",
    "llama_models = {\n",
    "    \"Llama 3.2 1B Instruct\": \"meta-llama/Llama-3.2-1B-Instruct\"  \n",
    "}\n",
    "\n",
    "# function to load the model\n",
    "def load_model(model_name):\n",
    "    \"\"\"Load the specified Llama model.\"\"\"\n",
    "    tokenizer = AutoTokenizer.from_pretrained(model_name)\n",
    "    model = AutoModelForCausalLM.from_pretrained(model_name)\n",
    "    generator = pipeline('text-generation', model=model, tokenizer=tokenizer, device=device)\n",
    "    return generator\n",
    "\n",
    "# Define the function to profile and store operations\n",
    "def inference_profiler(model_name, operation, time_taken):\n",
    "    \"\"\"Store the inference operation profiling in a dictionary.\"\"\"\n",
    "    if model_name not in inference_profiling_data:\n",
    "        inference_profiling_data[model_name] = {}\n",
    "\n",
    "    if operation not in inference_profiling_data[model_name]:\n",
    "        inference_profiling_data[model_name][operation] = []\n",
    "\n",
    "    inference_profiling_data[model_name][operation].append(time_taken)\n",
    "\n",
    "\n",
    "model_cache = {} # for caching generated chats\n",
    "loaded_model = \"null\"\n",
    "# Define the profiler dictionary to store operations\n",
    "inference_profiling_data = {}\n",
    "\n",
    "def generate_chat(user_input, history, model_choice):\n",
    "    \"\"\"Generate chatbot responses using the selected Llama model and task.\"\"\"\n",
    "    \n",
    "    if model_choice not in model_cache:\n",
    "        model_cache[model_choice] = load_model(llama_models[model_choice])\n",
    "    \n",
    "    generator = model_cache[model_choice]\n",
    "\n",
    "    if history is None:\n",
    "        history = []\n",
    "\n",
    "    history.append({\"role\": \"user\", \"content\": user_input})\n",
    "\n",
    "    # Start the profiler\n",
    "    with torch.profiler.profile(\n",
    "        activities=[torch.profiler.ProfilerActivity.CPU],\n",
    "        record_shapes=True,\n",
    "        with_stack=False\n",
    "    ) as prof:\n",
    "        response = generator(\n",
    "            history,\n",
    "            max_length=100,\n",
    "            pad_token_id=generator.tokenizer.eos_token_id,\n",
    "            do_sample=True,\n",
    "            temperature=0.7,\n",
    "            top_p=0.9\n",
    "        )[-1][\"generated_text\"][-1][\"content\"]\n",
    "        prof.step()  # Ensure the profiler finalizes its step\n",
    "\n",
    "    # Store the key averages object directly (not as a string)\n",
    "    inference_profiling_data[model_choice] = prof.key_averages()\n",
    "    print(prof.key_averages().table(sort_by=\"self_cpu_time_total\"))  # For debugging\n",
    "\n",
    "    history.append({\"role\": \"assistant\", \"content\": response})\n",
    "    \n",
    "    return history\n"
   ]
  },
  {
   "cell_type": "markdown",
   "metadata": {},
   "source": [
    "# Analysis Functions"
   ]
  },
  {
   "cell_type": "code",
   "execution_count": 19,
   "metadata": {},
   "outputs": [],
   "source": [
    "def generate_analysis(selection, model_choice):\n",
    "    \"\"\"Generate the analysis details based on the selected option.\"\"\"\n",
    "    import pandas as pd\n",
    "\n",
    "    if selection == \"Model Architecture\":\n",
    "        return see_structure(model_choice)  # Return structured model architecture\n",
    "    \n",
    "    elif selection == \"Torch Profile\":\n",
    "        profile_data = inference_profiling_data.get(model_choice, None)\n",
    "        if not profile_data:\n",
    "            return pd.DataFrame(columns=[\"Name\", \"Self CPU %\", \"Self CPU\", \"CPU total %\", \"CPU total\", \"CPU time avg\", \"# of Calls\"])\n",
    "        \n",
    "        # Helper function to format time given in microseconds\n",
    "        def format_time(us):\n",
    "            # Assuming input 'us' is in microseconds\n",
    "            if us < 1e3:\n",
    "                return f\"{us:.3f}μs\"\n",
    "            elif us < 1e6:\n",
    "                return f\"{us/1e3:.3f}ms\"\n",
    "            else:\n",
    "                return f\"{us/1e6:.3f}s\"\n",
    "        \n",
    "        # Build raw data list with numeric values\n",
    "        raw_data = []\n",
    "        total_self_cpu = sum(event.self_cpu_time_total for event in profile_data)\n",
    "        total_cpu_time = sum(event.cpu_time_total for event in profile_data)\n",
    "        \n",
    "        for event in profile_data:\n",
    "            self_cpu_pct = (event.self_cpu_time_total / total_self_cpu * 100) if total_self_cpu > 0 else 0\n",
    "            cpu_total_pct = (event.cpu_time_total / total_cpu_time * 100) if total_cpu_time > 0 else 0\n",
    "            raw_data.append({\n",
    "                \"Name\": event.key,\n",
    "                \"Self CPU Raw\": event.self_cpu_time_total,\n",
    "                \"Self CPU %\": self_cpu_pct,\n",
    "                \"CPU total Raw\": event.cpu_time_total,\n",
    "                \"CPU total %\": cpu_total_pct,\n",
    "                \"CPU time avg Raw\": event.cpu_time_total / event.count if event.count > 0 else 0,\n",
    "                \"# of Calls\": event.count\n",
    "            })\n",
    "        \n",
    "        # Sort the raw data by 'Self CPU Raw' in descending order\n",
    "        raw_data = sorted(raw_data, key=lambda x: x[\"Self CPU Raw\"], reverse=True)\n",
    "        \n",
    "        # Build display data with formatted values\n",
    "        display_data = []\n",
    "        for row in raw_data[:20]:\n",
    "            display_data.append({\n",
    "                \"Name\": row[\"Name\"],\n",
    "                \"Self CPU %\": f\"{row['Self CPU %']:.2f}%\",\n",
    "                \"Self CPU\": format_time(row[\"Self CPU Raw\"]),\n",
    "                \"CPU total %\": f\"{row['CPU total %']:.2f}%\",\n",
    "                \"CPU total\": format_time(row[\"CPU total Raw\"]),\n",
    "                \"CPU time avg\": format_time(row[\"CPU time avg Raw\"]),\n",
    "                \"# of Calls\": row[\"# of Calls\"]\n",
    "            })\n",
    "        \n",
    "        # Append a summary row for total Self CPU time\n",
    "        total_time_display = format_time(total_self_cpu)\n",
    "        summary_row = {\n",
    "            \"Name\": \"Self CPU time total\",\n",
    "            \"Self CPU %\": \"\",\n",
    "            \"Self CPU\": total_time_display,\n",
    "            \"CPU total %\": \"\",\n",
    "            \"CPU total\": \"\",\n",
    "            \"CPU time avg\": \"\",\n",
    "            \"# of Calls\": \"\"\n",
    "        }\n",
    "        display_data.append(summary_row)\n",
    "        \n",
    "        df = pd.DataFrame(display_data)\n",
    "        return df\n",
    "\n",
    "\n",
    "def see_structure(model_choice):\n",
    "    \"\"\"Return model architecture as a structured DataFrame.\"\"\"\n",
    "    if model_choice in model_cache:\n",
    "        model_pipeline = model_cache[model_choice]  # Get the pipeline\n",
    "        model = model_pipeline.model  # Extract model from the pipeline\n",
    "    else:\n",
    "        return pd.DataFrame(columns=[\"Layer\", \"Type\"])  # Return empty table\n",
    "\n",
    "    model_layers = [{\"Layer\": name, \"Type\": str(layer)} for name, layer in model.named_children()]\n",
    "    return pd.DataFrame(model_layers)\n"
   ]
  },
  {
   "cell_type": "markdown",
   "metadata": {},
   "source": [
    "# Gradio Block"
   ]
  },
  {
   "cell_type": "code",
   "execution_count": 20,
   "metadata": {},
   "outputs": [],
   "source": [
    "with gr.Blocks(css=\"\"\"\n",
    ".small-font table {\n",
    "  font-size: 12px !important;\n",
    "}\n",
    "\"\"\") as demo:\n",
    "    # First Row: Chatbot Section\n",
    "    with gr.Row():\n",
    "        with gr.Column(scale=1):\n",
    "            gr.Markdown(\"<h1><center>Chat with Llama Models</center></h1>\")\n",
    "            model_choice = gr.Dropdown(list(llama_models.keys()), label=\"Select Llama Model\")\n",
    "            chatbot = gr.Chatbot(label=\"Chatbot Interface\", type=\"messages\")\n",
    "            txt_input = gr.Textbox(show_label=False, placeholder=\"Type your message here...\")\n",
    "\n",
    "            def respond(user_input, chat_history, model_choice):\n",
    "                if model_choice is None:\n",
    "                    model_choice = list(llama_models.keys())[0]\n",
    "                updated_history = generate_chat(user_input, chat_history, model_choice)\n",
    "                return \"\", updated_history\n",
    "\n",
    "            txt_input.submit(respond, [txt_input, chatbot, model_choice], [txt_input, chatbot])\n",
    "            submit_btn = gr.Button(\"Submit\")\n",
    "            submit_btn.click(respond, [txt_input, chatbot, model_choice], [txt_input, chatbot])\n",
    "    \n",
    "    # Second Row: Analysis Section\n",
    "    with gr.Row():\n",
    "        with gr.Column(scale=1):\n",
    "            gr.Markdown(\"<h1><center>Analysis</center></h1>\")\n",
    "            analysis_dropdown = gr.Dropdown(\n",
    "                choices=[\"Model Architecture\", \"Torch Profile\"],\n",
    "                label=\"Select Analysis Type\"\n",
    "            )\n",
    "            # Apply the \"small-font\" class to reduce font size of the table.\n",
    "            analysis_table = gr.Dataframe(label=\"Analysis Details\", elem_classes=\"small-font\")\n",
    "            analysis_btn = gr.Button(\"Generate Analysis\")\n",
    "            analysis_btn.click(generate_analysis, [analysis_dropdown, model_choice], [analysis_table])\n",
    "\n",
    "\n"
   ]
  },
  {
   "cell_type": "markdown",
   "metadata": {},
   "source": [
    "# running Inference"
   ]
  },
  {
   "cell_type": "code",
   "execution_count": null,
   "metadata": {},
   "outputs": [
    {
     "name": "stdout",
     "output_type": "stream",
     "text": [
      "* Running on local URL:  http://127.0.0.1:7864\n",
      "\n",
      "To create a public link, set `share=True` in `launch()`.\n"
     ]
    },
    {
     "data": {
      "text/html": [
       "<div><iframe src=\"http://127.0.0.1:7864/\" width=\"100%\" height=\"500\" allow=\"autoplay; camera; microphone; clipboard-read; clipboard-write;\" frameborder=\"0\" allowfullscreen></iframe></div>"
      ],
      "text/plain": [
       "<IPython.core.display.HTML object>"
      ]
     },
     "metadata": {},
     "output_type": "display_data"
    },
    {
     "data": {
      "text/plain": []
     },
     "execution_count": 21,
     "metadata": {},
     "output_type": "execute_result"
    },
    {
     "ename": "",
     "evalue": "",
     "output_type": "error",
     "traceback": [
      "\u001b[1;31mThe Kernel crashed while executing code in the current cell or a previous cell. \n",
      "\u001b[1;31mPlease review the code in the cell(s) to identify a possible cause of the failure. \n",
      "\u001b[1;31mClick <a href='https://aka.ms/vscodeJupyterKernelCrash'>here</a> for more info. \n",
      "\u001b[1;31mView Jupyter <a href='command:jupyter.viewOutput'>log</a> for further details."
     ]
    }
   ],
   "source": [
    "demo.launch(inbrowser=True)\n"
   ]
  }
 ],
 "metadata": {
  "kernelspec": {
   "display_name": ".venv",
   "language": "python",
   "name": "python3"
  },
  "language_info": {
   "codemirror_mode": {
    "name": "ipython",
    "version": 3
   },
   "file_extension": ".py",
   "mimetype": "text/x-python",
   "name": "python",
   "nbconvert_exporter": "python",
   "pygments_lexer": "ipython3",
   "version": "3.11.9"
  }
 },
 "nbformat": 4,
 "nbformat_minor": 2
}
