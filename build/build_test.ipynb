{
 "cells": [
  {
   "cell_type": "code",
   "execution_count": 3,
   "metadata": {},
   "outputs": [
    {
     "name": "stdout",
     "output_type": "stream",
     "text": [
      "✅ BM25 Module Loaded Successfully!\n",
      "✅ compute_bm25 function found!\n",
      "✅ BM25 Module Loaded Successfully!\n",
      "✅ compute_bm25 function found!\n"
     ]
    }
   ],
   "source": [
    "import sys\n",
    "import numpy as np\n",
    "import os\n",
    "\n",
    "# Ensure Windows can locate Intel MKL DLLs\n",
    "os.add_dll_directory(\"E:\\\\Intel\\\\oneAPI\\\\mkl\\\\latest\\\\bin\")  # Add MKL DLL folder\n",
    "\n",
    "# Ensure Python can locate bm25_mkl.pyd\n",
    "os.add_dll_directory(\"E:\\\\Coding Stuff\\\\Arm_interview_project\\\\build\")\n",
    "os.add_dll_directory(\"C:\\\\Users\\\\Magjun\\\\AppData\\\\Local\\\\Programs\\\\Python\\\\Python311\")\n",
    "\n",
    "# Add the build directory to sys.path so Python can find bm25_mkl.pyd\n",
    "sys.path.append(\"E:\\\\Coding Stuff\\\\Arm_interview_project\\\\build\")\n",
    "\n",
    "try:\n",
    "    import bm25_mkl\n",
    "    print(\"✅ BM25 Module Loaded Successfully!\")\n",
    "except Exception as e:\n",
    "    print(f\"❌ Error loading bm25_mkl: {e}\")\n",
    "    sys.exit(1)\n",
    "\n",
    "# Verify that the function exists\n",
    "if hasattr(bm25_mkl, \"compute_bm25\"):\n",
    "    print(\"✅ compute_bm25 function found!\")\n",
    "else:\n",
    "    print(\"❌ compute_bm25 function missing!\")\n",
    "    sys.exit(1)\n",
    "\n",
    "try:\n",
    "    import bm25_mkl\n",
    "    print(\"✅ BM25 Module Loaded Successfully!\")\n",
    "except Exception as e:\n",
    "    print(f\"❌ Error loading bm25_mkl: {e}\")\n",
    "    sys.exit(1)\n",
    "\n",
    "# Verify that the function exists\n",
    "if hasattr(bm25_mkl, \"compute_bm25\"):\n",
    "    print(\"✅ compute_bm25 function found!\")\n",
    "else:\n",
    "    print(\"❌ compute_bm25 function missing!\")\n",
    "    sys.exit(1)"
   ]
  },
  {
   "cell_type": "markdown",
   "metadata": {},
   "source": [
    "# testing data\n"
   ]
  },
  {
   "cell_type": "code",
   "execution_count": 5,
   "metadata": {},
   "outputs": [
    {
     "name": "stdout",
     "output_type": "stream",
     "text": [
      "✅ compute_bm25 executed successfully!\n",
      "\n",
      "🔹 BM25 Scores for Test Documents:\n",
      "Document 1 Score: 4.93   /* expected ~4.93 */\n",
      "Document 2 Score: 4.31   /* expected ~4.31 */\n",
      "Document 3 Score: 5.80   /* expected ~5.80 */\n",
      "\n",
      "✅ BM25 Test Completed.\n"
     ]
    }
   ],
   "source": [
    "import numpy as np\n",
    "import sys\n",
    "import os\n",
    "\n",
    "# Ensure Windows can locate required DLLs (adjust paths as needed)\n",
    "os.add_dll_directory(\"E:\\\\Intel\\\\oneAPI\\\\mkl\\\\latest\\\\bin\")\n",
    "os.add_dll_directory(\"E:\\\\Coding Stuff\\\\Arm_interview_project\\\\build\")\n",
    "os.add_dll_directory(\"C:\\\\Users\\\\Magjun\\\\AppData\\\\Local\\\\Programs\\\\Python\\\\Python311\")\n",
    "sys.path.append(\"E:\\\\Coding Stuff\\\\Arm_interview_project\\\\build\")\n",
    "\n",
    "# Import the compiled BM25 module\n",
    "import bm25_mkl\n",
    "\n",
    "# ---------------------------\n",
    "# Define Test Data (Same as C++ Test)\n",
    "# ---------------------------\n",
    "num_docs = 3\n",
    "num_terms = 5\n",
    "\n",
    "# Term Frequencies (TF) for 3 documents, 5 terms each:\n",
    "# Document 1: [3, 0, 1, 2, 0]\n",
    "# Document 2: [0, 2, 0, 1, 3]\n",
    "# Document 3: [1, 1, 1, 1, 1]\n",
    "term_frequencies = np.array([\n",
    "    [3, 0, 1, 2, 0],\n",
    "    [0, 2, 0, 1, 3],\n",
    "    [1, 1, 1, 1, 1]\n",
    "], dtype=np.float32)\n",
    "\n",
    "# Precomputed IDF scores for each term:\n",
    "idf_scores = np.array([1.2, 0.8, 1.5, 1.0, 1.3], dtype=np.float32)\n",
    "\n",
    "# Document lengths (for simplicity, all documents have length 100)\n",
    "doc_lengths = np.array([100.0, 100.0, 100.0], dtype=np.float32)\n",
    "avg_doc_length = 100.0  # With all document lengths 100\n",
    "\n",
    "# ---------------------------\n",
    "# Compute BM25 Scores\n",
    "# ---------------------------\n",
    "# Flatten term frequencies as expected by the C++ function\n",
    "tf_flat = term_frequencies.flatten()\n",
    "\n",
    "try:\n",
    "    bm25_scores = bm25_mkl.compute_bm25(\n",
    "        tf_flat, \n",
    "        idf_scores, \n",
    "        doc_lengths, \n",
    "        avg_doc_length, \n",
    "        num_docs, \n",
    "        num_terms\n",
    "    )\n",
    "    print(\"✅ compute_bm25 executed successfully!\")\n",
    "except Exception as e:\n",
    "    print(f\"❌ Error executing compute_bm25: {e}\")\n",
    "    sys.exit(1)\n",
    "\n",
    "# ---------------------------\n",
    "# Print Results with Expected Values for Comparison\n",
    "# ---------------------------\n",
    "print(\"\\n🔹 BM25 Scores for Test Documents:\")\n",
    "print(f\"Document 1 Score: {bm25_scores[0]:.2f}   /* expected ~4.93 */\")\n",
    "print(f\"Document 2 Score: {bm25_scores[1]:.2f}   /* expected ~4.31 */\")\n",
    "print(f\"Document 3 Score: {bm25_scores[2]:.2f}   /* expected ~5.80 */\")\n",
    "\n",
    "print(\"\\n✅ BM25 Test Completed.\")\n"
   ]
  }
 ],
 "metadata": {
  "kernelspec": {
   "display_name": ".venv",
   "language": "python",
   "name": "python3"
  },
  "language_info": {
   "codemirror_mode": {
    "name": "ipython",
    "version": 3
   },
   "file_extension": ".py",
   "mimetype": "text/x-python",
   "name": "python",
   "nbconvert_exporter": "python",
   "pygments_lexer": "ipython3",
   "version": "3.11.9"
  }
 },
 "nbformat": 4,
 "nbformat_minor": 2
}
