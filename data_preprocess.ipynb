{
 "cells": [
  {
   "cell_type": "markdown",
   "metadata": {},
   "source": [
    "# Define Storage Directory\n",
    "\n",
    "Component\t                                           BM25 (Sparse)\t             FAISS (Dense)\n",
    "Pre-tokenized corpus\t                                   ✅ .json\t                    ✅ .json\n",
    "TF Vectors (tokens)\t                                       ✅ .npy\t                    ❌\n",
    "IDF Scores (tokens)\t                                       ✅ .npy\t                    ❌\n",
    "Token Lengths (bm25_token_lengths)\t                       ✅ .npy\t                    ❌\n",
    "Avg Token Length (bm25_avg_token_length)\t               ✅ .json\t                    ❌\n",
    "Token Embeddings\t                                       ❌\t                        ✅ .npy\n",
    "FAISS Token Index\t                                       ❌\t                        ✅ .faiss\n",
    "Token-to-Token Mapping\t                                   ✅ .json\t                    ✅ .json"
   ]
  },
  {
   "cell_type": "code",
   "execution_count": 1,
   "metadata": {},
   "outputs": [],
   "source": [
    "import os\n",
    "\n",
    "# Define storage folder\n",
    "storage_dir = \"retrieval_data\"\n",
    "os.makedirs(storage_dir, exist_ok=True)\n",
    "\n",
    "# Define file paths\n",
    "BM25_TF_PATH = os.path.join(storage_dir, \"bm25_tf.npy\")\n",
    "BM25_IDF_PATH = os.path.join(storage_dir, \"bm25_idf.npy\")\n",
    "BM25_TOKEN_LENGTHS_PATH = os.path.join(storage_dir, \"bm25_token_lengths.npy\")\n",
    "BM25_AVG_TOKEN_LENGTH_PATH = os.path.join(storage_dir, \"bm25_avg_token_length.json\")\n",
    "TOKENIZED_CORPUS_PATH = os.path.join(storage_dir, \"tokenized_corpus.json\")\n",
    "FAISS_EMBEDDINGS_PATH = os.path.join(storage_dir, \"faiss_token_embeddings.npy\")\n",
    "FAISS_INDEX_PATH = os.path.join(storage_dir, \"faiss_token_index.faiss\")\n",
    "FAISS_TOKEN_MAP_PATH = os.path.join(storage_dir, \"faiss_token_map.json\")"
   ]
  },
  {
   "cell_type": "markdown",
   "metadata": {},
   "source": [
    "# Tokenize Data With Auto Tokeniser"
   ]
  },
  {
   "cell_type": "code",
   "execution_count": 4,
   "metadata": {},
   "outputs": [
    {
     "name": "stdout",
     "output_type": "stream",
     "text": [
      "✅ Tokenized corpus saved!\n"
     ]
    }
   ],
   "source": [
    "from transformers import AutoTokenizer\n",
    "import pandas as pd\n",
    "import json\n",
    "\n",
    "# Load your dataset\n",
    "df = pd.read_csv(\"wikipedia_category_articles.csv\")  # Columns: ['Article', 'Article Info']\n",
    "\n",
    "# Load a tokenizer (Use the same model tokenizer for inference)\n",
    "tokenizer = AutoTokenizer.from_pretrained(\"meta-llama/Llama-3.2-1B-Instruct\")  # Change to match your model\n",
    "\n",
    "# Tokenize articles and convert tokens to IDs\n",
    "tokenized_docs = df[\"Article\"].apply(lambda x: tokenizer.tokenize(x))  # Tokenized text\n",
    "tokenized_ids = df[\"Article\"].apply(lambda x: tokenizer.encode(x, add_special_tokens=False))  # Token IDs\n",
    "\n",
    "# Save pre-tokenized output\n",
    "with open(TOKENIZED_CORPUS_PATH, \"w\") as f:\n",
    "    json.dump({\"tokenized_docs\": tokenized_docs.tolist(), \"tokenized_ids\": tokenized_ids.tolist()}, f)\n",
    "\n",
    "print(\"✅ Tokenized corpus saved!\")\n"
   ]
  },
  {
   "cell_type": "markdown",
   "metadata": {},
   "source": [
    "# Compute BM25 Weights for Tokens"
   ]
  },
  {
   "cell_type": "code",
   "execution_count": 8,
   "metadata": {},
   "outputs": [
    {
     "name": "stdout",
     "output_type": "stream",
     "text": [
      "✅ BM25 token weights computed and saved!\n"
     ]
    }
   ],
   "source": [
    "from sklearn.feature_extraction.text import TfidfVectorizer\n",
    "import numpy as np\n",
    "import json\n",
    "\n",
    "# Convert tokenized text back to string for vectorization\n",
    "vectorizer = TfidfVectorizer(use_idf=True, norm=None)  # ✅ Enable IDF computation\n",
    "tf_matrix = vectorizer.fit_transform([\" \".join(tokens) for tokens in tokenized_docs])\n",
    "\n",
    "# Store term frequencies\n",
    "np.save(BM25_TF_PATH, tf_matrix.toarray())\n",
    "\n",
    "# Store IDF scores for each token\n",
    "idf_scores = vectorizer.idf_  # ✅ This will now work\n",
    "np.save(BM25_IDF_PATH, idf_scores)\n",
    "\n",
    "# Store token lengths\n",
    "token_lengths = np.array([len(tokens) for tokens in tokenized_docs])\n",
    "np.save(BM25_TOKEN_LENGTHS_PATH, token_lengths)\n",
    "\n",
    "# Compute and store average token length\n",
    "avg_token_length = np.mean(token_lengths)\n",
    "with open(BM25_AVG_TOKEN_LENGTH_PATH, \"w\") as f:\n",
    "    json.dump({\"avg_token_length\": avg_token_length}, f)\n",
    "\n",
    "print(\"✅ BM25 token weights computed and saved!\")\n"
   ]
  },
  {
   "cell_type": "markdown",
   "metadata": {},
   "source": [
    "# Computing FAISS Token Embedding"
   ]
  },
  {
   "cell_type": "code",
   "execution_count": 9,
   "metadata": {},
   "outputs": [
    {
     "data": {
      "application/vnd.jupyter.widget-view+json": {
       "model_id": "564c0d0d348943a19ed37bd141563edd",
       "version_major": 2,
       "version_minor": 0
      },
      "text/plain": [
       "modules.json:   0%|          | 0.00/349 [00:00<?, ?B/s]"
      ]
     },
     "metadata": {},
     "output_type": "display_data"
    },
    {
     "name": "stderr",
     "output_type": "stream",
     "text": [
      "e:\\Coding Stuff\\Arm_interview_project\\.venv\\Lib\\site-packages\\huggingface_hub\\file_download.py:142: UserWarning: `huggingface_hub` cache-system uses symlinks by default to efficiently store duplicated files but your machine does not support them in C:\\Users\\Magjun\\.cache\\huggingface\\hub\\models--sentence-transformers--all-MiniLM-L6-v2. Caching files will still work but in a degraded version that might require more space on your disk. This warning can be disabled by setting the `HF_HUB_DISABLE_SYMLINKS_WARNING` environment variable. For more details, see https://huggingface.co/docs/huggingface_hub/how-to-cache#limitations.\n",
      "To support symlinks on Windows, you either need to activate Developer Mode or to run Python as an administrator. In order to activate developer mode, see this article: https://docs.microsoft.com/en-us/windows/apps/get-started/enable-your-device-for-development\n",
      "  warnings.warn(message)\n"
     ]
    },
    {
     "data": {
      "application/vnd.jupyter.widget-view+json": {
       "model_id": "905189f818564b2a9fdc44d0f87f7042",
       "version_major": 2,
       "version_minor": 0
      },
      "text/plain": [
       "config_sentence_transformers.json:   0%|          | 0.00/116 [00:00<?, ?B/s]"
      ]
     },
     "metadata": {},
     "output_type": "display_data"
    },
    {
     "data": {
      "application/vnd.jupyter.widget-view+json": {
       "model_id": "d729622ba4cf41708044cb7a958cb075",
       "version_major": 2,
       "version_minor": 0
      },
      "text/plain": [
       "README.md:   0%|          | 0.00/10.5k [00:00<?, ?B/s]"
      ]
     },
     "metadata": {},
     "output_type": "display_data"
    },
    {
     "data": {
      "application/vnd.jupyter.widget-view+json": {
       "model_id": "7dcb31bce6e44787900bac106864fe5b",
       "version_major": 2,
       "version_minor": 0
      },
      "text/plain": [
       "sentence_bert_config.json:   0%|          | 0.00/53.0 [00:00<?, ?B/s]"
      ]
     },
     "metadata": {},
     "output_type": "display_data"
    },
    {
     "data": {
      "application/vnd.jupyter.widget-view+json": {
       "model_id": "6de9f4207d994678bd079e50aac4e8bd",
       "version_major": 2,
       "version_minor": 0
      },
      "text/plain": [
       "config.json:   0%|          | 0.00/612 [00:00<?, ?B/s]"
      ]
     },
     "metadata": {},
     "output_type": "display_data"
    },
    {
     "data": {
      "application/vnd.jupyter.widget-view+json": {
       "model_id": "a2390c6fb51a4305b955f0a9aa760b6a",
       "version_major": 2,
       "version_minor": 0
      },
      "text/plain": [
       "model.safetensors:   0%|          | 0.00/90.9M [00:00<?, ?B/s]"
      ]
     },
     "metadata": {},
     "output_type": "display_data"
    },
    {
     "data": {
      "application/vnd.jupyter.widget-view+json": {
       "model_id": "59740dd1cb4b4f0c9768280b4f9b282c",
       "version_major": 2,
       "version_minor": 0
      },
      "text/plain": [
       "tokenizer_config.json:   0%|          | 0.00/350 [00:00<?, ?B/s]"
      ]
     },
     "metadata": {},
     "output_type": "display_data"
    },
    {
     "data": {
      "application/vnd.jupyter.widget-view+json": {
       "model_id": "60016ffd9e8d4b50b955bf4ea48bfef7",
       "version_major": 2,
       "version_minor": 0
      },
      "text/plain": [
       "vocab.txt:   0%|          | 0.00/232k [00:00<?, ?B/s]"
      ]
     },
     "metadata": {},
     "output_type": "display_data"
    },
    {
     "data": {
      "application/vnd.jupyter.widget-view+json": {
       "model_id": "79f3124c74e5411199b9faed732fb89d",
       "version_major": 2,
       "version_minor": 0
      },
      "text/plain": [
       "tokenizer.json:   0%|          | 0.00/466k [00:00<?, ?B/s]"
      ]
     },
     "metadata": {},
     "output_type": "display_data"
    },
    {
     "data": {
      "application/vnd.jupyter.widget-view+json": {
       "model_id": "4cdc40e2850a47d48f2ab506b874f08e",
       "version_major": 2,
       "version_minor": 0
      },
      "text/plain": [
       "special_tokens_map.json:   0%|          | 0.00/112 [00:00<?, ?B/s]"
      ]
     },
     "metadata": {},
     "output_type": "display_data"
    },
    {
     "data": {
      "application/vnd.jupyter.widget-view+json": {
       "model_id": "a5be5d129ad14ddaa15d39176ec33a40",
       "version_major": 2,
       "version_minor": 0
      },
      "text/plain": [
       "config.json:   0%|          | 0.00/190 [00:00<?, ?B/s]"
      ]
     },
     "metadata": {},
     "output_type": "display_data"
    },
    {
     "name": "stdout",
     "output_type": "stream",
     "text": [
      "✅ FAISS token embeddings computed and saved!\n"
     ]
    }
   ],
   "source": [
    "from sentence_transformers import SentenceTransformer\n",
    "import numpy as np\n",
    "\n",
    "# Load embedding model (e.g., MiniLM or your custom model)\n",
    "model = SentenceTransformer(\"all-MiniLM-L6-v2\")\n",
    "\n",
    "# Flatten tokenized docs into a token list\n",
    "all_tokens = [token for doc in tokenized_docs for token in doc]\n",
    "\n",
    "# Generate embeddings for each token\n",
    "token_embeddings = model.encode(all_tokens, convert_to_numpy=True)\n",
    "\n",
    "# Save token embeddings\n",
    "np.save(FAISS_EMBEDDINGS_PATH, token_embeddings)\n",
    "\n",
    "print(\"✅ FAISS token embeddings computed and saved!\")"
   ]
  },
  {
   "cell_type": "markdown",
   "metadata": {},
   "source": [
    "# Build Faiss Token Index"
   ]
  },
  {
   "cell_type": "code",
   "execution_count": 10,
   "metadata": {},
   "outputs": [
    {
     "name": "stdout",
     "output_type": "stream",
     "text": [
      "✅ FAISS token index created and saved!\n"
     ]
    }
   ],
   "source": [
    "import faiss\n",
    "import json\n",
    "\n",
    "# Initialize FAISS token index\n",
    "dimension = token_embeddings.shape[1]\n",
    "faiss_index = faiss.IndexFlatL2(dimension)  # L2 distance\n",
    "faiss_index.add(token_embeddings)  # Add token embeddings to index\n",
    "\n",
    "# Save FAISS index\n",
    "faiss.write_index(faiss_index, FAISS_INDEX_PATH)\n",
    "\n",
    "# Save token-to-ID mapping (each FAISS index corresponds to a token)\n",
    "token_map = {i: all_tokens[i] for i in range(len(all_tokens))}\n",
    "with open(FAISS_TOKEN_MAP_PATH, \"w\") as f:\n",
    "    json.dump(token_map, f)\n",
    "\n",
    "print(\"✅ FAISS token index created and saved!\")"
   ]
  }
 ],
 "metadata": {
  "kernelspec": {
   "display_name": ".venv",
   "language": "python",
   "name": "python3"
  },
  "language_info": {
   "codemirror_mode": {
    "name": "ipython",
    "version": 3
   },
   "file_extension": ".py",
   "mimetype": "text/x-python",
   "name": "python",
   "nbconvert_exporter": "python",
   "pygments_lexer": "ipython3",
   "version": "3.11.9"
  }
 },
 "nbformat": 4,
 "nbformat_minor": 2
}
