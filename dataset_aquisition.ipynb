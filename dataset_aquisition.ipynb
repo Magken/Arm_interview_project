{
 "cells": [
  {
   "cell_type": "markdown",
   "metadata": {},
   "source": [
    "# Downlad Wikipedia Dataset\n",
    "\n",
    "Use as a template for downloading other datasets"
   ]
  },
  {
   "cell_type": "code",
   "execution_count": null,
   "metadata": {},
   "outputs": [
    {
     "name": "stderr",
     "output_type": "stream",
     "text": [
      "Downloading Wikipedia Categories: 100%|██████████| 6/6 [00:40<00:00,  6.76s/it]"
     ]
    },
    {
     "name": "stdout",
     "output_type": "stream",
     "text": [
      "✅ Wikipedia dataset saved as 'wikipedia_category_articles.csv'.\n"
     ]
    },
    {
     "name": "stderr",
     "output_type": "stream",
     "text": [
      "\n"
     ]
    }
   ],
   "source": [
    "import wikipediaapi\n",
    "import pandas as pd\n",
    "from tqdm import tqdm\n",
    "\n",
    "# Initialize Wikipedia API with a proper User-Agent\n",
    "wiki = wikipediaapi.Wikipedia(\n",
    "    user_agent=\"WikipediaScraper/1.0 (replacewithemail@email.com)\",  \n",
    "    language=\"en\"\n",
    ")\n",
    "\n",
    "def get_category_pages(category_name, max_articles=10):\n",
    "    \"\"\"\n",
    "    Retrieves articles from a Wikipedia category.\n",
    "    \"\"\"\n",
    "    category = wiki.page(f\"Category:{category_name}\")\n",
    "    articles = {}\n",
    "\n",
    "    # Recursively fetch pages from category members\n",
    "    def fetch_pages(category_page):\n",
    "        for page_title, page in category_page.categorymembers.items():\n",
    "            if page.ns == wikipediaapi.Namespace.MAIN and page_title not in articles:\n",
    "                articles[page_title] = page.summary\n",
    "                if len(articles) >= max_articles:  # Stop when limit is reached\n",
    "                    return\n",
    "            elif page.ns == wikipediaapi.Namespace.CATEGORY:\n",
    "                fetch_pages(page)  # Recursively fetch subcategories\n",
    "\n",
    "    fetch_pages(category)\n",
    "    return articles\n",
    "\n",
    "# Define categories to scrape (You can add more!)\n",
    "categories = [\"Artificial intelligence\", \"Machine learning\", \"Computer vision\", \n",
    "              \"League of Legends\", \"Legends of Runeterra\", \"Ku Lo Sa\"]\n",
    "\n",
    "# Store articles\n",
    "all_articles = {}\n",
    "\n",
    "for category in tqdm(categories, desc=\"Downloading Wikipedia Categories\"):\n",
    "    articles = get_category_pages(category, max_articles=50)  # Fetch up to 50 articles per category\n",
    "    all_articles.update(articles)\n",
    "\n",
    "# Convert to DataFrame with new column names\n",
    "df = pd.DataFrame(list(all_articles.items()), columns=[\"Article\", \"Article Info\"])\n",
    "\n",
    "# Save to CSV\n",
    "df.to_csv(\"wikipedia_category_articles.csv\", index=False)\n",
    "\n",
    "print(\"✅ Wikipedia dataset saved as 'wikipedia_category_articles.csv'.\")\n"
   ]
  },
  {
   "cell_type": "markdown",
   "metadata": {},
   "source": [
    "# Clean Dataset\n"
   ]
  },
  {
   "cell_type": "code",
   "execution_count": 2,
   "metadata": {},
   "outputs": [
    {
     "name": "stdout",
     "output_type": "stream",
     "text": [
      "✅ Cleaned dataset saved (overwritten) to wikipedia_category_articles.csv\n"
     ]
    }
   ],
   "source": [
    "import pandas as pd\n",
    "import re\n",
    "\n",
    "def clean_text(text):\n",
    "    \"\"\"Remove special characters, extra spaces, and ensure consistent formatting.\"\"\"\n",
    "    if pd.isna(text):  # Handle NaN values\n",
    "        return \"\"\n",
    "    text = text.lower()  # Convert to lowercase\n",
    "    text = re.sub(r\"[^a-zA-Z0-9.,!?\\'\\\"\\s-]\", \"\", text)  # Keep only alphanumeric, punctuation\n",
    "    text = re.sub(r\"\\s+\", \" \", text).strip()  # Remove extra spaces\n",
    "    return text\n",
    "\n",
    "def clean_dataset(csv_path):\n",
    "    \"\"\"Clean the dataset and overwrite the same CSV file.\"\"\"\n",
    "    df = pd.read_csv(csv_path)\n",
    "\n",
    "    # ✅ Apply cleaning function to both columns\n",
    "    df[\"Article\"] = df[\"Article\"].apply(clean_text)\n",
    "    df[\"Article Info\"] = df[\"Article Info\"].apply(clean_text)\n",
    "\n",
    "    # ✅ Overwrite the original file\n",
    "    df.to_csv(csv_path, index=False)\n",
    "    print(f\"✅ Cleaned dataset saved (overwritten) to {csv_path}\")\n",
    "\n",
    "# Example usage\n",
    "clean_dataset(\"wikipedia_category_articles.csv\")\n"
   ]
  }
 ],
 "metadata": {
  "kernelspec": {
   "display_name": ".venv",
   "language": "python",
   "name": "python3"
  },
  "language_info": {
   "codemirror_mode": {
    "name": "ipython",
    "version": 3
   },
   "file_extension": ".py",
   "mimetype": "text/x-python",
   "name": "python",
   "nbconvert_exporter": "python",
   "pygments_lexer": "ipython3",
   "version": "3.11.9"
  }
 },
 "nbformat": 4,
 "nbformat_minor": 2
}
